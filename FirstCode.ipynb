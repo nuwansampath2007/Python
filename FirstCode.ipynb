{
  "nbformat": 4,
  "nbformat_minor": 0,
  "metadata": {
    "colab": {
      "provenance": [],
      "authorship_tag": "ABX9TyPdFMFDQy+QRYp3Q9O6+3Fz",
      "include_colab_link": true
    },
    "kernelspec": {
      "name": "python3",
      "display_name": "Python 3"
    },
    "language_info": {
      "name": "python"
    }
  },
  "cells": [
    {
      "cell_type": "markdown",
      "metadata": {
        "id": "view-in-github",
        "colab_type": "text"
      },
      "source": [
        "<a href=\"https://colab.research.google.com/github/nuwansampath2007/Python/blob/First-Learn/FirstCode.ipynb\" target=\"_parent\"><img src=\"https://colab.research.google.com/assets/colab-badge.svg\" alt=\"Open In Colab\"/></a>"
      ]
    },
    {
      "cell_type": "code",
      "execution_count": 29,
      "metadata": {
        "colab": {
          "base_uri": "https://localhost:8080/"
        },
        "id": "4Fg54jgSd9Zq",
        "outputId": "1001fd9e-0cde-4f35-c733-3162865067fc"
      },
      "outputs": [
        {
          "output_type": "stream",
          "name": "stdout",
          "text": [
            "Hello Nuwan Welocme back to programming After good 6 Years!....\n"
          ]
        }
      ],
      "source": [
        "print(\"Hello Nuwan Welocme back to programming After good 6 Years!....\")"
      ]
    },
    {
      "cell_type": "code",
      "source": [
        "name = \"Nuwan\"\n",
        "age = 36\n",
        "height = 5.10\n",
        "is_gamer = True\n",
        "\n",
        "\n",
        "print(\"Name:\", name)\n",
        "print(\"Age:\", age)\n",
        "print(\"Height:\", height)\n",
        "print(\"Is Gamer?\", is_gamer)\n",
        "\n"
      ],
      "metadata": {
        "colab": {
          "base_uri": "https://localhost:8080/"
        },
        "id": "yEyR5F9aelOE",
        "outputId": "e24e208f-7f5a-47eb-b1fa-6af128fa1dc4"
      },
      "execution_count": null,
      "outputs": [
        {
          "output_type": "stream",
          "name": "stdout",
          "text": [
            "Name: Nuwan\n",
            "Age: 36\n",
            "Height: 5.1\n",
            "Is Gamer? True\n"
          ]
        }
      ]
    },
    {
      "cell_type": "code",
      "source": [
        "user_name = input(\"What is your Name ?\")\n",
        "print(\"Welcome \" + user_name + \"!\")"
      ],
      "metadata": {
        "colab": {
          "base_uri": "https://localhost:8080/"
        },
        "id": "cwkPrvIbfz_l",
        "outputId": "4c1f9ae2-766f-464c-bbbe-7c778647d4f5"
      },
      "execution_count": null,
      "outputs": [
        {
          "output_type": "stream",
          "name": "stdout",
          "text": [
            "What is your Name ?Nuwan\n",
            "Welcome Nuwan!\n"
          ]
        }
      ]
    },
    {
      "cell_type": "code",
      "source": [
        "x = 3\n",
        "y = 10\n",
        "\n",
        "print (x + y)\n",
        "print (y - x)\n",
        "print (x * y)\n",
        "print (y / x)\n",
        "print (y // x)\n",
        "print (y % x)\n",
        "print (y ** x)\n",
        "\n",
        "\n"
      ],
      "metadata": {
        "colab": {
          "base_uri": "https://localhost:8080/"
        },
        "id": "4dsP4JYCjVnD",
        "outputId": "fd26c740-346d-4f1d-8946-2a74785c5b98"
      },
      "execution_count": 19,
      "outputs": [
        {
          "output_type": "stream",
          "name": "stdout",
          "text": [
            "13\n",
            "7\n",
            "30\n",
            "3.3333333333333335\n",
            "3\n",
            "1\n",
            "1000\n"
          ]
        }
      ]
    },
    {
      "cell_type": "code",
      "source": [
        "age = int(input(\"Enter your age: \"))\n",
        "\n",
        "if age >= 18:\n",
        "    print(\"You are eligible to vote.\")\n",
        "elif age >= 13:\n",
        "    print(\"You are Teenager But not eligible to vote yet.\")\n",
        "else:\n",
        "    print(\"You are not eligible to vote yet.\")"
      ],
      "metadata": {
        "colab": {
          "base_uri": "https://localhost:8080/"
        },
        "id": "esP3vE02lsmp",
        "outputId": "1b23e598-8f92-4958-e55f-5a5d0642fc01"
      },
      "execution_count": 28,
      "outputs": [
        {
          "output_type": "stream",
          "name": "stdout",
          "text": [
            "Enter your age: 37\n",
            "You are eligible to vote.\n"
          ]
        }
      ]
    },
    {
      "cell_type": "code",
      "source": [
        "count = 0\n",
        "while count < 5:\n",
        "    print(\"Count is: \", count)\n",
        "    count += 1"
      ],
      "metadata": {
        "colab": {
          "base_uri": "https://localhost:8080/"
        },
        "id": "VZ1zaSPjnIyv",
        "outputId": "941a5b28-88dc-40ef-8b5f-4d3d457eaa49"
      },
      "execution_count": 30,
      "outputs": [
        {
          "output_type": "stream",
          "name": "stdout",
          "text": [
            "Count is:  0\n",
            "Count is:  1\n",
            "Count is:  2\n",
            "Count is:  3\n",
            "Count is:  4\n"
          ]
        }
      ]
    }
  ]
}