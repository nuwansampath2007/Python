{
  "nbformat": 4,
  "nbformat_minor": 0,
  "metadata": {
    "colab": {
      "provenance": [],
      "authorship_tag": "ABX9TyOgFXhbC1DWUH07fSNMM0dd",
      "include_colab_link": true
    },
    "kernelspec": {
      "name": "python3",
      "display_name": "Python 3"
    },
    "language_info": {
      "name": "python"
    }
  },
  "cells": [
    {
      "cell_type": "markdown",
      "metadata": {
        "id": "view-in-github",
        "colab_type": "text"
      },
      "source": [
        "<a href=\"https://colab.research.google.com/github/nuwansampath2007/Python/blob/First-Learn/FirstCode.ipynb\" target=\"_parent\"><img src=\"https://colab.research.google.com/assets/colab-badge.svg\" alt=\"Open In Colab\"/></a>"
      ]
    },
    {
      "cell_type": "code",
      "execution_count": 4,
      "metadata": {
        "colab": {
          "base_uri": "https://localhost:8080/"
        },
        "id": "4Fg54jgSd9Zq",
        "outputId": "4f846334-4223-418c-c40e-cf5c38735555"
      },
      "outputs": [
        {
          "output_type": "stream",
          "name": "stdout",
          "text": [
            "Hello Nuwan Welocme back to programming After good 6 Years!....\n"
          ]
        }
      ],
      "source": [
        "print(\"Hello Nuwan Welocme back to programming After good 6 Years!....\")"
      ]
    },
    {
      "cell_type": "code",
      "source": [
        "name = \"Nuwan\"\n",
        "age = 36\n",
        "height = 5.10\n",
        "is_gamer = True\n",
        "\n",
        "\n",
        "print(\"Name:\", name)\n",
        "print(\"Age:\", age)\n",
        "print(\"Height:\", height)\n",
        "print(\"Is Gamer?\", is_gamer)\n",
        "\n"
      ],
      "metadata": {
        "colab": {
          "base_uri": "https://localhost:8080/"
        },
        "id": "yEyR5F9aelOE",
        "outputId": "727ee6ee-adf7-4970-fd2d-0a55264b3622"
      },
      "execution_count": 5,
      "outputs": [
        {
          "output_type": "stream",
          "name": "stdout",
          "text": [
            "Name: Nuwan\n",
            "Age: 36\n",
            "Height: 5.1\n",
            "Is Gamer? True\n"
          ]
        }
      ]
    },
    {
      "cell_type": "code",
      "source": [
        "user_name = input(\"What is your Name ?\")\n",
        "print(\"Welcome \" + user_name + \"!\")"
      ],
      "metadata": {
        "colab": {
          "base_uri": "https://localhost:8080/"
        },
        "id": "cwkPrvIbfz_l",
        "outputId": "4b041012-365f-4eab-eac5-65f4cd3fac64"
      },
      "execution_count": 6,
      "outputs": [
        {
          "output_type": "stream",
          "name": "stdout",
          "text": [
            "What is your Name ?NUWAN\n",
            "Welcome NUWAN!\n"
          ]
        }
      ]
    },
    {
      "cell_type": "code",
      "source": [
        "x = 3\n",
        "y = 10\n",
        "\n",
        "print (x + y)\n",
        "print (y - x)\n",
        "print (x * y)\n",
        "print (y / x)\n",
        "print (y // x)\n",
        "print (y % x)\n",
        "print (y ** x)\n",
        "\n",
        "\n"
      ],
      "metadata": {
        "colab": {
          "base_uri": "https://localhost:8080/"
        },
        "id": "4dsP4JYCjVnD",
        "outputId": "3953b4d3-5566-4f6f-f920-0e954c06ccea"
      },
      "execution_count": 7,
      "outputs": [
        {
          "output_type": "stream",
          "name": "stdout",
          "text": [
            "13\n",
            "7\n",
            "30\n",
            "3.3333333333333335\n",
            "3\n",
            "1\n",
            "1000\n"
          ]
        }
      ]
    },
    {
      "cell_type": "code",
      "source": [
        "age = int(input(\"Enter your age: \"))\n",
        "\n",
        "if age >= 18:\n",
        "    print(\"You are eligible to vote.\")\n",
        "elif age >= 13:\n",
        "    print(\"You are Teenager But not eligible to vote yet.\")\n",
        "else:\n",
        "    print(\"You are not eligible to vote yet.\")"
      ],
      "metadata": {
        "colab": {
          "base_uri": "https://localhost:8080/"
        },
        "id": "esP3vE02lsmp",
        "outputId": "f908ad06-89a1-4ee1-8f42-5ab51a56087e"
      },
      "execution_count": 8,
      "outputs": [
        {
          "output_type": "stream",
          "name": "stdout",
          "text": [
            "Enter your age: 19\n",
            "You are eligible to vote.\n"
          ]
        }
      ]
    },
    {
      "cell_type": "code",
      "source": [
        "count = 0\n",
        "while count < 5:\n",
        "    print(\"Count is: \", count)\n",
        "    count += 1"
      ],
      "metadata": {
        "colab": {
          "base_uri": "https://localhost:8080/"
        },
        "id": "VZ1zaSPjnIyv",
        "outputId": "83cffcdb-610c-46fc-dbd4-b21152bf72ed"
      },
      "execution_count": 9,
      "outputs": [
        {
          "output_type": "stream",
          "name": "stdout",
          "text": [
            "Count is:  0\n",
            "Count is:  1\n",
            "Count is:  2\n",
            "Count is:  3\n",
            "Count is:  4\n"
          ]
        }
      ]
    },
    {
      "cell_type": "code",
      "source": [
        "video_games = [\"Game 1\", \"Game 2\", \"Game 3\", \"Game 4\"]\n",
        "\n",
        "\n",
        "\n",
        "video_games.append(\"Game 5\")\n",
        "\n",
        "print(video_games)\n",
        "#for game in video_games:\n",
        "#    print(game)"
      ],
      "metadata": {
        "colab": {
          "base_uri": "https://localhost:8080/"
        },
        "id": "ov0Eq0BPr5BB",
        "outputId": "0f8ae913-2949-4104-f2b7-90d94824bdce"
      },
      "execution_count": 13,
      "outputs": [
        {
          "output_type": "stream",
          "name": "stdout",
          "text": [
            "['Game 1', 'Game 2', 'Game 3', 'Game 4', 'Game 5']\n"
          ]
        }
      ]
    },
    {
      "cell_type": "code",
      "source": [
        "def hello(person_name):\n",
        "  print(\"Hello \" + person_name + \" Welcome to functions in python\")\n",
        "\n",
        "hello(\"Nuwan\")\n",
        "\n",
        "def multyply(a, b):\n",
        "  return a * b\n",
        "\n",
        "result = multyply(30, 5)\n",
        "print(\"Results : \", result)\n",
        "\n",
        "\n"
      ],
      "metadata": {
        "colab": {
          "base_uri": "https://localhost:8080/"
        },
        "id": "_QYxEj81tHqK",
        "outputId": "e4beebe9-fd33-49a8-85ea-4b1b026ddbaa"
      },
      "execution_count": 27,
      "outputs": [
        {
          "output_type": "stream",
          "name": "stdout",
          "text": [
            "Hello Nuwan Welcome to functions in python\n",
            "Results :  150\n"
          ]
        }
      ]
    }
  ]
}